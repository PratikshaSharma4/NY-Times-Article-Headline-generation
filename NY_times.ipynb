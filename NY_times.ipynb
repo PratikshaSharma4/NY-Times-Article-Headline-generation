{
  "nbformat": 4,
  "nbformat_minor": 0,
  "metadata": {
    "colab": {
      "name": "NY times.ipynb",
      "provenance": [],
      "collapsed_sections": []
    },
    "kernelspec": {
      "name": "python3",
      "display_name": "Python 3"
    },
    "accelerator": "GPU"
  },
  "cells": [
    {
      "cell_type": "code",
      "metadata": {
        "id": "ob-sLm2K4xkd"
      },
      "source": [
        "# keras module for building LSTM \r\n",
        "from keras.preprocessing.sequence import pad_sequences\r\n",
        "from keras.layers import Embedding, LSTM, Dense, Dropout\r\n",
        "from keras.preprocessing.text import Tokenizer\r\n",
        "from keras.callbacks import EarlyStopping\r\n",
        "from keras.models import Sequential\r\n",
        "import keras.utils as ku \r\n",
        "\r\n",
        "# set seeds for reproducability\r\n",
        "#from tensorflow import set_random_seed\r\n",
        "from numpy.random import seed\r\n",
        "#set_random_seed(2)\r\n",
        "seed(1)\r\n",
        "\r\n",
        "import pandas as pd\r\n",
        "import numpy as np\r\n",
        "import string, os \r\n",
        "\r\n",
        "import warnings\r\n",
        "warnings.filterwarnings(\"ignore\")\r\n",
        "warnings.simplefilter(action='ignore', category=FutureWarning)"
      ],
      "execution_count": 1,
      "outputs": []
    },
    {
      "cell_type": "code",
      "metadata": {
        "id": "GDtMSDUnHRaC"
      },
      "source": [
        "#!unzip '/content/drive/MyDrive/archive (3).zip'"
      ],
      "execution_count": 2,
      "outputs": []
    },
    {
      "cell_type": "code",
      "metadata": {
        "colab": {
          "base_uri": "https://localhost:8080/"
        },
        "id": "Kx5AlGcCHtxL",
        "outputId": "3f9ea8a7-8735-41ba-a49a-8aa8503c03e7"
      },
      "source": [
        "curr_dir = '/content/'\r\n",
        "all_headlines = []\r\n",
        "for filename in os.listdir(curr_dir):\r\n",
        "    if 'IMDB' in filename:\r\n",
        "        article_df = pd.read_csv(curr_dir + filename)\r\n",
        "        all_headlines.extend(list(article_df.review.values))\r\n",
        "        break\r\n",
        "\r\n",
        "all_headlines = [h for h in all_headlines if h != \"Unknown\"]\r\n",
        "len(all_headlines)\r\n"
      ],
      "execution_count": 3,
      "outputs": [
        {
          "output_type": "execute_result",
          "data": {
            "text/plain": [
              "50000"
            ]
          },
          "metadata": {
            "tags": []
          },
          "execution_count": 3
        }
      ]
    },
    {
      "cell_type": "code",
      "metadata": {
        "id": "U946oYPxSkX6"
      },
      "source": [
        "all_headlines = all_headlines[:5000]"
      ],
      "execution_count": 4,
      "outputs": []
    },
    {
      "cell_type": "code",
      "metadata": {
        "colab": {
          "base_uri": "https://localhost:8080/"
        },
        "id": "4UGwmBmaK8Io",
        "outputId": "c9af385d-07ff-4b81-b424-afd7c4bcd5ee"
      },
      "source": [
        "def clean_text(txt):\r\n",
        "    txt = \"\".join(v for v in txt if v not in string.punctuation).lower()\r\n",
        "    txt = txt.encode(\"utf8\").decode(\"ascii\",'ignore')\r\n",
        "    return txt \r\n",
        "\r\n",
        "corpus = [clean_text(x) for x in all_headlines]\r\n",
        "corpus[:10]"
      ],
      "execution_count": 5,
      "outputs": [
        {
          "output_type": "execute_result",
          "data": {
            "text/plain": [
              "['one of the other reviewers has mentioned that after watching just 1 oz episode youll be hooked they are right as this is exactly what happened with mebr br the first thing that struck me about oz was its brutality and unflinching scenes of violence which set in right from the word go trust me this is not a show for the faint hearted or timid this show pulls no punches with regards to drugs sex or violence its is hardcore in the classic use of the wordbr br it is called oz as that is the nickname given to the oswald maximum security state penitentary it focuses mainly on emerald city an experimental section of the prison where all the cells have glass fronts and face inwards so privacy is not high on the agenda em city is home to manyaryans muslims gangstas latinos christians italians irish and moreso scuffles death stares dodgy dealings and shady agreements are never far awaybr br i would say the main appeal of the show is due to the fact that it goes where other shows wouldnt dare forget pretty pictures painted for mainstream audiences forget charm forget romanceoz doesnt mess around the first episode i ever saw struck me as so nasty it was surreal i couldnt say i was ready for it but as i watched more i developed a taste for oz and got accustomed to the high levels of graphic violence not just violence but injustice crooked guards wholl be sold out for a nickel inmates wholl kill on order and get away with it well mannered middle class inmates being turned into prison bitches due to their lack of street skills or prison experience watching oz you may become comfortable with what is uncomfortable viewingthats if you can get in touch with your darker side',\n",
              " 'a wonderful little production br br the filming technique is very unassuming very oldtimebbc fashion and gives a comforting and sometimes discomforting sense of realism to the entire piece br br the actors are extremely well chosen michael sheen not only has got all the polari but he has all the voices down pat too you can truly see the seamless editing guided by the references to williams diary entries not only is it well worth the watching but it is a terrificly written and performed piece a masterful production about one of the great masters of comedy and his life br br the realism really comes home with the little things the fantasy of the guard which rather than use the traditional dream techniques remains solid then disappears it plays on our knowledge and our senses particularly with the scenes concerning orton and halliwell and the sets particularly of their flat with halliwells murals decorating every surface are terribly well done',\n",
              " 'i thought this was a wonderful way to spend time on a too hot summer weekend sitting in the air conditioned theater and watching a lighthearted comedy the plot is simplistic but the dialogue is witty and the characters are likable even the well bread suspected serial killer while some may be disappointed when they realize this is not match point 2 risk addiction i thought it was proof that woody allen is still fully in control of the style many of us have grown to lovebr br this was the most id laughed at one of woodys comedies in years dare i say a decade while ive never been impressed with scarlet johanson in this she managed to tone down her sexy image and jumped right into a average but spirited young womanbr br this may not be the crown jewel of his career but it was wittier than devil wears prada and more interesting than superman a great comedy to go see with friends',\n",
              " 'basically theres a family where a little boy jake thinks theres a zombie in his closet  his parents are fighting all the timebr br this movie is slower than a soap opera and suddenly jake decides to become rambo and kill the zombiebr br ok first of all when youre going to make a film you must decide if its a thriller or a drama as a drama the movie is watchable parents are divorcing  arguing like in real life and then we have jake with his closet which totally ruins all the film i expected to see a boogeyman similar movie and instead i watched a drama with some meaningless thriller spotsbr br 3 out of 10 just for the well playing parents  descent dialogs as for the shots with jake just ignore them',\n",
              " 'petter matteis love in the time of money is a visually stunning film to watch mr mattei offers us a vivid portrait about human relations this is a movie that seems to be telling us what money power and success do to people in the different situations we encounter br br this being a variation on the arthur schnitzlers play about the same theme the director transfers the action to the present time new york where all these different characters meet and connect each one is connected in one way or another to the next person but no one seems to know the previous point of contact stylishly the film has a sophisticated luxurious look we are taken to see how these people live and the world they live in their own habitatbr br the only thing one gets out of all these souls in the picture is the different stages of loneliness each one inhabits a big city is not exactly the best place in which human relations find sincere fulfillment as one discerns is the case with most of the people we encounterbr br the acting is good under mr matteis direction steve buscemi rosario dawson carol kane michael imperioli adrian grenier and the rest of the talented cast make these characters come alivebr br we wish mr mattei good luck and await anxiously for his next work',\n",
              " 'probably my alltime favorite movie a story of selflessness sacrifice and dedication to a noble cause but its not preachy or boring it just never gets old despite my having seen it some 15 or more times in the last 25 years paul lukas performance brings tears to my eyes and bette davis in one of her very few truly sympathetic roles is a delight the kids are as grandma says more like dressedup midgets than children but that only makes them more fun to watch and the mothers slow awakening to whats happening in the world and under her own roof is believable and startling if i had a dozen thumbs theyd all be up for this movie',\n",
              " 'i sure would like to see a resurrection of a up dated seahunt series with the tech they have today it would bring back the kid excitement in mei grew up on black and white tv and seahunt with gunsmoke were my heros every weekyou have my vote for a comeback of a new sea huntwe need a change of pace in tv and this would work for a world of under water adventureoh by the way thank you for an outlet like this to view many viewpoints about tv and the many moviesso any ole way i believe ive got what i wanna saywould be nice to read some more plus points about sea huntif my rhymes would be 10 lines would you let me submitor leave me out to be in doubt and have me to quitif this is so then i must go so lets do it',\n",
              " 'this show was an amazing fresh  innovative idea in the 70s when it first aired the first 7 or 8 years were brilliant but things dropped off after that by 1990 the show was not really funny anymore and its continued its decline further to the complete waste of time it is todaybr br its truly disgraceful how far this show has fallen the writing is painfully bad the performances are almost as bad  if not for the mildly entertaining respite of the guesthosts this show probably wouldnt still be on the air i find it so hard to believe that the same creator that handselected the original cast also chose the band of hacks that followed how can one recognize such brilliance and then see fit to replace it with such mediocrity i felt i must give 2 stars out of respect for the original cast that made this show such a huge success as it is now the show is just awful i cant believe its still on the air',\n",
              " 'encouraged by the positive comments about this film on here i was looking forward to watching this film bad mistake ive seen 950 films and this is truly one of the worst of them  its awful in almost every way editing pacing storyline acting soundtrack the films only song  a lame country tune  is played no less than four times the film looks cheap and nasty and is boring in the extreme rarely have i been so happy to see the end credits of a film br br the only thing that prevents me giving this a 1score is harvey keitel  while this is far from his best performance he at least seems to be making a bit of an effort one for keitel obsessives only',\n",
              " 'if you like original gut wrenching laughter you will like this movie if you are young or old then you will love this movie hell even my mom liked itbr br great camp']"
            ]
          },
          "metadata": {
            "tags": []
          },
          "execution_count": 5
        }
      ]
    },
    {
      "cell_type": "code",
      "metadata": {
        "colab": {
          "base_uri": "https://localhost:8080/"
        },
        "id": "JdM1YlHmK8FU",
        "outputId": "80ae4570-9e85-4f7f-e5b2-ed28caf12762"
      },
      "source": [
        "tokenizer = Tokenizer()\r\n",
        "\r\n",
        "def get_sequence_of_tokens(corpus):\r\n",
        "    ## tokenization\r\n",
        "    tokenizer.fit_on_texts(corpus)\r\n",
        "    total_words = len(tokenizer.word_index) + 1\r\n",
        "    \r\n",
        "    ## convert data to sequence of tokens \r\n",
        "    input_sequences = []\r\n",
        "    for line in corpus:\r\n",
        "        token_list = tokenizer.texts_to_sequences([line])[0]\r\n",
        "        for i in range(1, len(token_list)):\r\n",
        "            n_gram_sequence = token_list[:i+1]\r\n",
        "            input_sequences.append(n_gram_sequence)\r\n",
        "    return input_sequences, total_words\r\n",
        "\r\n",
        "inp_sequences, total_words = get_sequence_of_tokens(corpus)\r\n",
        "inp_sequences[:10]"
      ],
      "execution_count": 6,
      "outputs": [
        {
          "output_type": "execute_result",
          "data": {
            "text/plain": [
              "[[27, 4],\n",
              " [27, 4, 1],\n",
              " [27, 4, 1, 81],\n",
              " [27, 4, 1, 81, 1808],\n",
              " [27, 4, 1, 81, 1808, 45],\n",
              " [27, 4, 1, 81, 1808, 45, 952],\n",
              " [27, 4, 1, 81, 1808, 45, 952, 11],\n",
              " [27, 4, 1, 81, 1808, 45, 952, 11, 99],\n",
              " [27, 4, 1, 81, 1808, 45, 952, 11, 99, 143],\n",
              " [27, 4, 1, 81, 1808, 45, 952, 11, 99, 143, 39]]"
            ]
          },
          "metadata": {
            "tags": []
          },
          "execution_count": 6
        }
      ]
    },
    {
      "cell_type": "code",
      "metadata": {
        "id": "KKCqmOZoK8DI"
      },
      "source": [
        "def generate_padded_sequences(input_sequences):\r\n",
        "    max_sequence_len = max([len(x) for x in input_sequences])\r\n",
        "    input_sequences = np.array(pad_sequences(input_sequences, maxlen=max_sequence_len, padding='pre'))\r\n",
        "    \r\n",
        "    predictors, label = input_sequences[:,:-1],input_sequences[:,-1]\r\n",
        "    label = ku.to_categorical(label, num_classes=total_words)\r\n",
        "    return predictors, label, max_sequence_len\r\n",
        "\r\n",
        "predictors, label, max_sequence_len = generate_padded_sequences(inp_sequences)"
      ],
      "execution_count": null,
      "outputs": []
    },
    {
      "cell_type": "code",
      "metadata": {
        "id": "qIz5EBxQK8BM"
      },
      "source": [
        "def create_model(max_sequence_len, total_words):\r\n",
        "    input_len = max_sequence_len - 1\r\n",
        "    model = Sequential()\r\n",
        "    \r\n",
        "    # Add Input Embedding Layer\r\n",
        "    model.add(Embedding(total_words, 10, input_length=input_len))\r\n",
        "    \r\n",
        "    # Add Hidden Layer 1 - LSTM Layer\r\n",
        "    model.add(LSTM(100))\r\n",
        "    model.add(Dropout(0.1))\r\n",
        "    \r\n",
        "    # Add Output Layer\r\n",
        "    model.add(Dense(total_words, activation='softmax'))\r\n",
        "\r\n",
        "    model.compile(loss='categorical_crossentropy', optimizer='adam')\r\n",
        "    \r\n",
        "    return model\r\n",
        "\r\n",
        "model = create_model(max_sequence_len, total_words)\r\n",
        "model.summary()"
      ],
      "execution_count": null,
      "outputs": []
    },
    {
      "cell_type": "code",
      "metadata": {
        "colab": {
          "base_uri": "https://localhost:8080/"
        },
        "id": "Dxl4paMpK7_C",
        "outputId": "bdf3a5c5-7390-40da-ed31-04cb40d8295e"
      },
      "source": [
        "model.fit(predictors, label, epochs=100, verbose=5)"
      ],
      "execution_count": 43,
      "outputs": [
        {
          "output_type": "stream",
          "text": [
            "Epoch 1/100\n",
            "Epoch 2/100\n",
            "Epoch 3/100\n",
            "Epoch 4/100\n",
            "Epoch 5/100\n",
            "Epoch 6/100\n",
            "Epoch 7/100\n",
            "Epoch 8/100\n",
            "Epoch 9/100\n",
            "Epoch 10/100\n",
            "Epoch 11/100\n",
            "Epoch 12/100\n",
            "Epoch 13/100\n",
            "Epoch 14/100\n",
            "Epoch 15/100\n",
            "Epoch 16/100\n",
            "Epoch 17/100\n",
            "Epoch 18/100\n",
            "Epoch 19/100\n",
            "Epoch 20/100\n",
            "Epoch 21/100\n",
            "Epoch 22/100\n",
            "Epoch 23/100\n",
            "Epoch 24/100\n",
            "Epoch 25/100\n",
            "Epoch 26/100\n",
            "Epoch 27/100\n",
            "Epoch 28/100\n",
            "Epoch 29/100\n",
            "Epoch 30/100\n",
            "Epoch 31/100\n",
            "Epoch 32/100\n",
            "Epoch 33/100\n",
            "Epoch 34/100\n",
            "Epoch 35/100\n",
            "Epoch 36/100\n",
            "Epoch 37/100\n",
            "Epoch 38/100\n",
            "Epoch 39/100\n",
            "Epoch 40/100\n",
            "Epoch 41/100\n",
            "Epoch 42/100\n",
            "Epoch 43/100\n",
            "Epoch 44/100\n",
            "Epoch 45/100\n",
            "Epoch 46/100\n",
            "Epoch 47/100\n",
            "Epoch 48/100\n",
            "Epoch 49/100\n",
            "Epoch 50/100\n",
            "Epoch 51/100\n",
            "Epoch 52/100\n",
            "Epoch 53/100\n",
            "Epoch 54/100\n",
            "Epoch 55/100\n",
            "Epoch 56/100\n",
            "Epoch 57/100\n",
            "Epoch 58/100\n",
            "Epoch 59/100\n",
            "Epoch 60/100\n",
            "Epoch 61/100\n",
            "Epoch 62/100\n",
            "Epoch 63/100\n",
            "Epoch 64/100\n",
            "Epoch 65/100\n",
            "Epoch 66/100\n",
            "Epoch 67/100\n",
            "Epoch 68/100\n",
            "Epoch 69/100\n",
            "Epoch 70/100\n",
            "Epoch 71/100\n",
            "Epoch 72/100\n",
            "Epoch 73/100\n",
            "Epoch 74/100\n",
            "Epoch 75/100\n",
            "Epoch 76/100\n",
            "Epoch 77/100\n",
            "Epoch 78/100\n",
            "Epoch 79/100\n",
            "Epoch 80/100\n",
            "Epoch 81/100\n",
            "Epoch 82/100\n",
            "Epoch 83/100\n",
            "Epoch 84/100\n",
            "Epoch 85/100\n",
            "Epoch 86/100\n",
            "Epoch 87/100\n",
            "Epoch 88/100\n",
            "Epoch 89/100\n",
            "Epoch 90/100\n",
            "Epoch 91/100\n",
            "Epoch 92/100\n",
            "Epoch 93/100\n",
            "Epoch 94/100\n",
            "Epoch 95/100\n",
            "Epoch 96/100\n",
            "Epoch 97/100\n",
            "Epoch 98/100\n",
            "Epoch 99/100\n",
            "Epoch 100/100\n"
          ],
          "name": "stdout"
        },
        {
          "output_type": "execute_result",
          "data": {
            "text/plain": [
              "<tensorflow.python.keras.callbacks.History at 0x7fe11b8af780>"
            ]
          },
          "metadata": {
            "tags": []
          },
          "execution_count": 43
        }
      ]
    },
    {
      "cell_type": "code",
      "metadata": {
        "id": "e9wQmz49K77s"
      },
      "source": [
        "def generate_text(seed_text, next_words, model, max_sequence_len):\r\n",
        "    for _ in range(next_words):\r\n",
        "        token_list = tokenizer.texts_to_sequences([seed_text])[0]\r\n",
        "        token_list = pad_sequences([token_list], maxlen=max_sequence_len-1, padding='pre')\r\n",
        "        predicted = model.predict_classes(token_list, verbose=0)\r\n",
        "        \r\n",
        "        output_word = \"\"\r\n",
        "        for word,index in tokenizer.word_index.items():\r\n",
        "            if index == predicted:\r\n",
        "                output_word = word\r\n",
        "                break\r\n",
        "        seed_text += \" \"+output_word\r\n",
        "    return seed_text.title()"
      ],
      "execution_count": 32,
      "outputs": []
    },
    {
      "cell_type": "code",
      "metadata": {
        "colab": {
          "base_uri": "https://localhost:8080/",
          "height": 35
        },
        "id": "7AKAJpFnK75y",
        "outputId": "9be01391-3649-4389-a788-b8f5330ad9b4"
      },
      "source": [
        "generate_text('United', 10, model, max_sequence_len)"
      ],
      "execution_count": 42,
      "outputs": [
        {
          "output_type": "execute_result",
          "data": {
            "application/vnd.google.colaboratory.intrinsic+json": {
              "type": "string"
            },
            "text/plain": [
              "'United Trek Discovery Season 1 Episode 12 Man In The Week'"
            ]
          },
          "metadata": {
            "tags": []
          },
          "execution_count": 42
        }
      ]
    },
    {
      "cell_type": "code",
      "metadata": {
        "colab": {
          "base_uri": "https://localhost:8080/",
          "height": 35
        },
        "id": "ZXexAU0HK73g",
        "outputId": "9a8ec99f-8d79-427a-e625-32c472950728"
      },
      "source": [
        "generate_text('Children', 10, model, max_sequence_len)"
      ],
      "execution_count": 38,
      "outputs": [
        {
          "output_type": "execute_result",
          "data": {
            "application/vnd.google.colaboratory.intrinsic+json": {
              "type": "string"
            },
            "text/plain": [
              "'Children The Alienist World Found To The Future Of Hers Die'"
            ]
          },
          "metadata": {
            "tags": []
          },
          "execution_count": 38
        }
      ]
    },
    {
      "cell_type": "code",
      "metadata": {
        "colab": {
          "base_uri": "https://localhost:8080/",
          "height": 35
        },
        "id": "s0tDJu-XK71U",
        "outputId": "d3aa1fc6-2b15-445e-da16-513ee1e62915"
      },
      "source": [
        "generate_text('Aniket', 10, model, max_sequence_len)"
      ],
      "execution_count": 39,
      "outputs": [
        {
          "output_type": "execute_result",
          "data": {
            "application/vnd.google.colaboratory.intrinsic+json": {
              "type": "string"
            },
            "text/plain": [
              "'Aniket The Alienist Season 1 Episode The Shutdown Looms The Top'"
            ]
          },
          "metadata": {
            "tags": []
          },
          "execution_count": 39
        }
      ]
    },
    {
      "cell_type": "code",
      "metadata": {
        "colab": {
          "base_uri": "https://localhost:8080/",
          "height": 35
        },
        "id": "AM5sxeSAK7zR",
        "outputId": "d886eb42-cd6e-4459-990d-99bec9cf7950"
      },
      "source": [
        "generate_text('How', 10, model, max_sequence_len)"
      ],
      "execution_count": 40,
      "outputs": [
        {
          "output_type": "execute_result",
          "data": {
            "application/vnd.google.colaboratory.intrinsic+json": {
              "type": "string"
            },
            "text/plain": [
              "'How The Whole30 Right Supports To The Shutdown Of Everything Started'"
            ]
          },
          "metadata": {
            "tags": []
          },
          "execution_count": 40
        }
      ]
    },
    {
      "cell_type": "code",
      "metadata": {
        "colab": {
          "base_uri": "https://localhost:8080/",
          "height": 35
        },
        "id": "lrvtTDsWMVq8",
        "outputId": "b38de08b-fe9b-4aad-e541-00fbc4405883"
      },
      "source": [
        "generate_text('Boom', 10, model, max_sequence_len)"
      ],
      "execution_count": 41,
      "outputs": [
        {
          "output_type": "execute_result",
          "data": {
            "application/vnd.google.colaboratory.intrinsic+json": {
              "type": "string"
            },
            "text/plain": [
              "'Boom The Alienist Season 1 Episode The Shutdown Looms The Top'"
            ]
          },
          "metadata": {
            "tags": []
          },
          "execution_count": 41
        }
      ]
    }
  ]
}